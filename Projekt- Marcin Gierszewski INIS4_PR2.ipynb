{
 "metadata": {
  "language_info": {
   "codemirror_mode": {
    "name": "ipython",
    "version": 3
   },
   "file_extension": ".py",
   "mimetype": "text/x-python",
   "name": "python",
   "nbconvert_exporter": "python",
   "pygments_lexer": "ipython3",
   "version": "3.9.2"
  },
  "orig_nbformat": 2,
  "kernelspec": {
   "name": "python3",
   "display_name": "Python 3.9.2 64-bit",
   "metadata": {
    "interpreter": {
     "hash": "b8bdd4e700647ba2b08c59e5df8b7da1dcf50a218bcd4c1bcd9b3dc92e8788e5"
    }
   }
  }
 },
 "nbformat": 4,
 "nbformat_minor": 2,
 "cells": [
  {
   "cell_type": "code",
   "execution_count": 1,
   "metadata": {},
   "outputs": [],
   "source": [
    "import json\n",
    "with open('160221.json', 'r', encoding=\"utf8\") as f:\n",
    "    data = json.load(f)\n"
   ]
  },
  {
   "cell_type": "code",
   "execution_count": 2,
   "metadata": {},
   "outputs": [],
   "source": [
    "class NOP:\n",
    "    def __init__(self, date, voivodeship, region, gender, symptoms):\n",
    "        self.date = date\n",
    "        self.voivodeship = voivodeship\n",
    "        self.region = region\n",
    "        self.gender = gender\n",
    "        self.symptoms = self.__format_symptoms(symptoms)\n",
    "\n",
    "    def __repr__(self):\n",
    "        return \"NOP\"\n",
    "\n",
    "    @staticmethod\n",
    "    def __format_symptoms(description):\n",
    "        listsymptoms = []\n",
    "        if (\"zaczerwienieniei\" or \"zaczerwienienie\" or \" bolesność\") in description:\n",
    "            listsymptoms.append(\"Zaczerwienienie i bolesność\")\n",
    "        if (\"temp\" or \"temperatura\" or \"gorączka\") in description:\n",
    "            listsymptoms.append(\"Gorączka\")\n",
    "        if \"drgawki\" in description:\n",
    "            listsymptoms.append(\"Drgawki\")\n",
    "        if \"wymioty\" in description:\n",
    "            listsymptoms.append(\"Wymioty\")\n",
    "        if (\"omdlenie\" or \"utrata przytomności\") in description:\n",
    "            listsymptoms.append(\"Omdlenie\")\n",
    "        return set(listsymptoms)\n"
   ]
  },
  {
   "cell_type": "code",
   "execution_count": 3,
   "metadata": {},
   "outputs": [],
   "source": [
    "listNOPs = []\n",
    "\n",
    "with open('160221.json', 'r', encoding=\"utf8\") as f:\n",
    "        data = json.load(f)\n",
    "        for i, j in enumerate(data):\n",
    "            listNOPs.append(\n",
    "                NOP(\n",
    "                    data[i][\"DATE\"],\n",
    "                    data[i][\"VOIVODESHIP\"],\n",
    "                    data[i][\"REGION\"],\n",
    "                    data[i][\"GENDER\"],\n",
    "                    data[i][\"DESCRIPTION\"]\n",
    "                )\n",
    "            )\n"
   ]
  },
  {
   "cell_type": "code",
   "execution_count": 9,
   "metadata": {},
   "outputs": [
    {
     "output_type": "stream",
     "name": "stdout",
     "text": [
      "ilość kobiet:  1675\nilość mężczyzn:  275\nNopy:  1950\n"
     ]
    }
   ],
   "source": [
    "kobiety = 0\n",
    "mezczyzni = 0\n",
    "\n",
    "for NOP in listNOPs:\n",
    "    if NOP.gender == \"K\":\n",
    "        kobiety += 1\n",
    "    else:\n",
    "        mezczyzni += 1\n",
    "\n",
    "print(\"ilość kobiet: \",kobiety)\n",
    "print(\"ilość mężczyzn: \",mezczyzni)\n",
    "x1 = len(data) \n",
    "print(\"Nopy: \", x1)"
   ]
  },
  {
   "cell_type": "code",
   "execution_count": 15,
   "metadata": {},
   "outputs": [
    {
     "output_type": "stream",
     "name": "stdout",
     "text": [
      "osoby z gorączką w woj. pomorskim:  0\n"
     ]
    }
   ],
   "source": [
    "pom = 0\n",
    "inne = 0\n",
    "\n",
    "for NOP in listNOPs:\n",
    "    if NOP.symptoms == \"gorączka\":\n",
    "        pom += 1\n",
    "    else:\n",
    "        inne += 1\n",
    "print(\"osoby z gorączką w woj. pomorskim: \", pom)\n"
   ]
  }
 ]
}